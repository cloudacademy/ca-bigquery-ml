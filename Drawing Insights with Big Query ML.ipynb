{
 "cells": [
  {
   "cell_type": "markdown",
   "metadata": {},
   "source": [
    "# Drawing Insights with Big Query ML"
   ]
  },
  {
   "cell_type": "markdown",
   "metadata": {},
   "source": [
    "Google Big Query is a managed, scalable data warehouse that enables analysis over large sets of data.  Big Query ML extends this functionality by enabling the use of Machine Learning with a standard SQL language by easily allowing you to train models, evaluate, and predict.\n",
    "\n",
    "A model in Big Query ML represents what an ML System has previously learned from training data.  \n",
    "There are many types of models supported such as:\n",
    "- Linear regression\n",
    "- Binary logistic regression\n",
    "- Multiclass logistic regression\n",
    "- K-means clustering \n",
    "- Matrix Factorization\n",
    "- Time series\n",
    "- Boosted Tree \n",
    "- Deep Neural Network \n",
    "- AutoML Tables \n",
    "- TensorFlow "
   ]
  },
  {
   "cell_type": "markdown",
   "metadata": {},
   "source": [
    "#### Lab: Getting Started in Big Query ML with Linear Regression\n",
    "\n",
    "In this lab we will look at using NOAA temperature data for a set of years to predict future average temperature values using [Linear Regression.](https://en.wikipedia.org/wiki/Linear_regression#:~:text=In%20statistics%2C%20linear%20regression%20is,is%20called%20simple%20linear%20regression.)\n",
    "\n",
    "1) First we will create a dataset to store the model. [Click here to open the Big Query UI](https://console.cloud.google.com/bigquery?_ga=2.44329517.868398427.1595536877-1775816527.1575499949)\n",
    "\n",
    "2) Beside your project name, which begins with `cal-`, click the menu icon (three vertical dots) and select `Create Dataset`.\n",
    "\n",
    "![](assets/create-dataset.png)\n",
    "\n",
    "\n",
    "3) Name the dataset `bigqueryml_ca` and click `Create dataset`.\n",
    "\n",
    "4) Next we will train our linear regression model using the code block below. This model is trained to predict on the `Temp_f` column."
   ]
  },
  {
   "cell_type": "code",
   "execution_count": null,
   "metadata": {},
   "outputs": [],
   "source": [
    "%load_ext google.cloud.bigquery"
   ]
  },
  {
   "cell_type": "code",
   "execution_count": null,
   "metadata": {},
   "outputs": [],
   "source": [
    "%%bigquery\n",
    "CREATE OR REPLACE MODEL\n",
    "  `bigqueryml_ca.temperature_model`\n",
    "OPTIONS\n",
    "  ( model_type='linear_reg',\n",
    "    data_split_method='NO_SPLIT',\n",
    "    input_label_cols=['Temp_f'],\n",
    "    max_iterations=15) AS\n",
    "SELECT AVG(b.temp) as Temp_f, cast(b.year as int64) as year\n",
    "FROM `bigquery-public-data.noaa_gsod.stations` a\n",
    "JOIN `bigquery-public-data.noaa_gsod.gsod*` b\n",
    "ON a.usaf=b.stn AND a.wban=b.wban \n",
    "WHERE a.country='US' and a.state='AK' AND b.year > '1970' AND b.year < '2020'\n",
    "Group By b.year, a.state"
   ]
  },
  {
   "cell_type": "markdown",
   "metadata": {},
   "source": [
    "5) Create and populate a table to evaluate the data against an unknown set years to see how the model predicts the result. "
   ]
  },
  {
   "cell_type": "code",
   "execution_count": null,
   "metadata": {},
   "outputs": [],
   "source": [
    "%%bigquery\n",
    "CREATE TABLE bigqueryml_ca.sample_data (\n",
    "year INT64,\n",
    ")"
   ]
  },
  {
   "cell_type": "code",
   "execution_count": null,
   "metadata": {},
   "outputs": [],
   "source": [
    "%%bigquery\n",
    "INSERT bigqueryml_ca.sample_data (year) VALUES(2020);\n",
    "\n",
    "INSERT bigqueryml_ca.sample_data (year) VALUES(2030);\n",
    "\n",
    "INSERT bigqueryml_ca.sample_data (year) VALUES(2040);\n",
    "\n",
    "INSERT bigqueryml_ca.sample_data (year) VALUES(2050);\n",
    "\n",
    "INSERT bigqueryml_ca.sample_data (year) VALUES(2060);\n"
   ]
  },
  {
   "cell_type": "markdown",
   "metadata": {},
   "source": [
    "Due to a Big Query Restriction on insert statements, please wait 10 sec and execute the next block."
   ]
  },
  {
   "cell_type": "code",
   "execution_count": null,
   "metadata": {},
   "outputs": [],
   "source": [
    "%%bigquery\n",
    "INSERT bigqueryml_ca.sample_data (year) VALUES(2070);\n",
    "\n",
    "INSERT bigqueryml_ca.sample_data (year) VALUES(2080);\n",
    "\n",
    "INSERT bigqueryml_ca.sample_data (year) VALUES(2090);\n",
    "\n",
    "INSERT bigqueryml_ca.sample_data (year) VALUES(2100);\n",
    "\n",
    "INSERT bigqueryml_ca.sample_data (year) VALUES(2110);"
   ]
  },
  {
   "cell_type": "markdown",
   "metadata": {},
   "source": [
    "Next we can determine how our table evalutes against the full set of NOAA weather data for the State of Alaska.  This provides details like r^2 and mean absolute error.  The R^2 value tells us how well our model fits our data."
   ]
  },
  {
   "cell_type": "code",
   "execution_count": null,
   "metadata": {},
   "outputs": [],
   "source": [
    "%%bigquery\n",
    "SELECT * FROM\n",
    "ML.EVALUATE(\n",
    "  MODEL `bigqueryml_ca.temperature_model`,\n",
    "  # Table to evaluate against\n",
    "  (\n",
    "    SELECT AVG(b.temp) as Temp_f, cast(b.year as int64) as year\n",
    "    FROM `bigquery-public-data.noaa_gsod.stations` a\n",
    "    JOIN `bigquery-public-data.noaa_gsod.gsod*` b\n",
    "    ON a.usaf=b.stn AND a.wban=b.wban \n",
    "    WHERE a.country='US' and a.state='AK' AND b.year < '2020'\n",
    "    Group By b.year, a.state\n",
    "  )\n",
    ")"
   ]
  },
  {
   "cell_type": "markdown",
   "metadata": {},
   "source": [
    "6) Finally predict the average temp_f based on a set of years in the `sample_data` table."
   ]
  },
  {
   "cell_type": "code",
   "execution_count": null,
   "metadata": {},
   "outputs": [],
   "source": [
    "%%bigquery\n",
    "SELECT\n",
    "  *\n",
    "FROM\n",
    "  ML.PREDICT (MODEL `bigqueryml_ca.temperature_model`,\n",
    "    (\n",
    "    SELECT year\n",
    "    FROM `bigqueryml_ca.sample_data`\n",
    "  ) \n",
    ")\n",
    "\n",
    "ORDER BY year asc"
   ]
  },
  {
   "cell_type": "markdown",
   "metadata": {},
   "source": [
    "We can see the average temperature is trending upwards for the State of Alaska. \n",
    "\n",
    "Finally we will save the dataset for average temperature vs years into a dataframe, and then add in the machine learning result.  We will combine the data into a data frame and plot the data to observe the linear regression visually."
   ]
  },
  {
   "cell_type": "code",
   "execution_count": null,
   "metadata": {},
   "outputs": [],
   "source": [
    "%%bigquery avg_temperature\n",
    "SELECT AVG(b.temp) as Temp_f, cast(b.year as int64) as year\n",
    "FROM `bigquery-public-data.noaa_gsod.stations` a\n",
    "JOIN `bigquery-public-data.noaa_gsod.gsod*` b\n",
    "ON a.usaf=b.stn AND a.wban=b.wban \n",
    "WHERE a.country='US' and a.state='AK' AND b.year < '2020'\n",
    "Group By b.year, a.state"
   ]
  },
  {
   "cell_type": "code",
   "execution_count": null,
   "metadata": {},
   "outputs": [],
   "source": [
    "%%bigquery mlresult\n",
    "SELECT\n",
    "  year, predicted_Temp_f as Temp_f\n",
    "FROM\n",
    "  ML.PREDICT (MODEL `bigqueryml_ca.temperature_model`,\n",
    "    (\n",
    "    SELECT cast(b.year as int64) as year\n",
    "    FROM `bigquery-public-data.noaa_gsod.stations` a\n",
    "    JOIN `bigquery-public-data.noaa_gsod.gsod*` b\n",
    "    ON a.usaf=b.stn AND a.wban=b.wban \n",
    "    WHERE a.country='US' and a.state='AK' AND b.year < '2020'\n",
    "    ) \n",
    ")\n"
   ]
  },
  {
   "cell_type": "code",
   "execution_count": null,
   "metadata": {},
   "outputs": [],
   "source": [
    "import pandas as pd\n",
    "frames = [avg_temperature, mlresult]\n",
    "result = pd.concat(frames)"
   ]
  },
  {
   "cell_type": "code",
   "execution_count": null,
   "metadata": {},
   "outputs": [],
   "source": [
    "%matplotlib inline\n",
    "result.plot(kind='scatter', x='year', y='Temp_f');"
   ]
  },
  {
   "cell_type": "markdown",
   "metadata": {},
   "source": [
    "Modify the code blocks above to find your own insights in the NOAA dataset!"
   ]
  },
  {
   "cell_type": "markdown",
   "metadata": {},
   "source": [
    "#### Lab: Exploring Binary Logistic Regression in Big Query ML"
   ]
  },
  {
   "cell_type": "markdown",
   "metadata": {},
   "source": [
    "The next algorithm we will look at is Binary Logistic Regression which is used to predict the odds of an event outcome based on a set of independent variables.  For this example we will look at Census data as it pertains to income bracket vs several other independent variables.  For this example we will split the dataset into 4 chunks, where we train the model on 3 of them and evaluate on the last.  We use the `FARM_FINGERPRINT` function to create a hash on each row, limited to one of four chunks."
   ]
  },
  {
   "cell_type": "markdown",
   "metadata": {},
   "source": [
    "1) First train the model to target based on `income_bracket` -- Note the namespace of where we create the model is the same as above.\n"
   ]
  },
  {
   "cell_type": "code",
   "execution_count": null,
   "metadata": {},
   "outputs": [],
   "source": [
    "%%bigquery\n",
    "CREATE OR REPLACE MODEL\n",
    "  `bigqueryml_ca.census_log_reg`\n",
    "OPTIONS\n",
    "  ( model_type=\"logistic_reg\",\n",
    "    input_label_cols=[\"income_bracket\"] ) AS\n",
    "SELECT\n",
    "  * EXCEPT(DATASET_ID)\n",
    "FROM (\n",
    "  SELECT\n",
    "    ABS(MOD(FARM_FINGERPRINT(CONCAT( CAST(age AS STRING), CAST(education AS STRING), CAST(marital_status AS STRING), CAST(race AS STRING), CAST(sex AS STRING), CAST(income_bracket AS STRING), CAST(occupation AS STRING), CAST(capital_gain AS STRING), CAST(functional_weight AS STRING))),4)) AS DATASET_ID,\n",
    "    education, marital_status, race, sex, income_bracket\n",
    "  FROM\n",
    "    `bigquery-public-data.ml_datasets.census_adult_income` )\n",
    "WHERE\n",
    "  DATASET_ID IN (0,1,2)"
   ]
  },
  {
   "cell_type": "markdown",
   "metadata": {},
   "source": [
    "2) Once again lets evaluate how our model performed. This time we have selected a `DATASET_ID=3` which is our evaluation dataset."
   ]
  },
  {
   "cell_type": "code",
   "execution_count": null,
   "metadata": {},
   "outputs": [],
   "source": [
    "%%bigquery\n",
    "SELECT * FROM\n",
    "ML.EVALUATE(\n",
    "  MODEL `bigqueryml_ca.census_log_reg`,\n",
    "  # Table to evaluate against\n",
    "  (\n",
    "    SELECT * EXCEPT(DATASET_ID)\n",
    "    FROM (\n",
    "      SELECT\n",
    "        ABS(MOD(FARM_FINGERPRINT(CONCAT( CAST(age AS STRING), CAST(education AS STRING), CAST(marital_status AS STRING), CAST(race AS STRING), CAST(sex AS STRING), CAST(income_bracket AS STRING), CAST(occupation AS STRING), CAST(capital_gain AS STRING), CAST(functional_weight AS STRING))),4)) AS DATASET_ID,\n",
    "        education, marital_status, race, sex, income_bracket\n",
    "       FROM\n",
    "        `bigquery-public-data.ml_datasets.census_adult_income` )\n",
    "    WHERE DATASET_ID = 3\n",
    "))\n"
   ]
  },
  {
   "cell_type": "markdown",
   "metadata": {},
   "source": [
    "3) Predict based on the evaluation set.  Below we will look at what results were predicted to have an income > 50K and less than or equal to 50K."
   ]
  },
  {
   "cell_type": "code",
   "execution_count": null,
   "metadata": {},
   "outputs": [],
   "source": [
    "%%bigquery\n",
    "\n",
    "## > 50K result\n",
    "\n",
    "SELECT * FROM\n",
    "ML.PREDICT(\n",
    "  MODEL `bigqueryml_ca.census_log_reg`,\n",
    "  # Table to evaluate against\n",
    "  (\n",
    "    SELECT * EXCEPT(DATASET_ID)\n",
    "    FROM (\n",
    "      SELECT\n",
    "        ABS(MOD(FARM_FINGERPRINT(CONCAT( CAST(age AS STRING), CAST(education AS STRING), CAST(marital_status AS STRING), CAST(race AS STRING), CAST(sex AS STRING), CAST(income_bracket AS STRING), CAST(occupation AS STRING), CAST(capital_gain AS STRING), CAST(functional_weight AS STRING))),4)) AS DATASET_ID,\n",
    "        education, marital_status, race, sex, income_bracket\n",
    "       FROM\n",
    "        `bigquery-public-data.ml_datasets.census_adult_income` )\n",
    "    WHERE DATASET_ID = 3\n",
    "))\n",
    "WHERE predicted_income_bracket = ' >50K'\n"
   ]
  },
  {
   "cell_type": "code",
   "execution_count": null,
   "metadata": {},
   "outputs": [],
   "source": [
    "%%bigquery\n",
    "\n",
    "## < 50K result\n",
    "\n",
    "SELECT * FROM\n",
    "ML.PREDICT(\n",
    "  MODEL `bigqueryml_ca.census_log_reg`,\n",
    "  # Table to evaluate against\n",
    "  (\n",
    "    SELECT * EXCEPT(DATASET_ID)\n",
    "    FROM (\n",
    "      SELECT\n",
    "        ABS(MOD(FARM_FINGERPRINT(CONCAT( CAST(age AS STRING), CAST(education AS STRING), CAST(marital_status AS STRING), CAST(race AS STRING), CAST(sex AS STRING), CAST(income_bracket AS STRING), CAST(occupation AS STRING), CAST(capital_gain AS STRING), CAST(functional_weight AS STRING))),4)) AS DATASET_ID,\n",
    "        education, marital_status, race, sex, income_bracket\n",
    "       FROM\n",
    "        `bigquery-public-data.ml_datasets.census_adult_income` )\n",
    "    WHERE DATASET_ID = 3\n",
    "))\n",
    "WHERE predicted_income_bracket = ' <=50K'\n"
   ]
  },
  {
   "cell_type": "markdown",
   "metadata": {},
   "source": [
    "Note: The model is not 100% accurate, but if we were to supply `education, marital_status, race, sex` we should be able to predict the income bracket correctly 82% of the time!\n",
    "\n",
    "Create your own dataset to predict against, or modify the parameters of the model to increase accuracy to go further."
   ]
  }
 ],
 "metadata": {
  "environment": {
   "name": "common-cpu.m50",
   "type": "gcloud",
   "uri": "gcr.io/deeplearning-platform-release/base-cpu:m50"
  },
  "kernelspec": {
   "display_name": "Python 3",
   "language": "python",
   "name": "python3"
  },
  "language_info": {
   "codemirror_mode": {
    "name": "ipython",
    "version": 3
   },
   "file_extension": ".py",
   "mimetype": "text/x-python",
   "name": "python",
   "nbconvert_exporter": "python",
   "pygments_lexer": "ipython3",
   "version": "3.7.6"
  }
 },
 "nbformat": 4,
 "nbformat_minor": 4
}
